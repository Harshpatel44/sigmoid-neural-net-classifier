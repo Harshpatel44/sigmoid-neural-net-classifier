{
  "nbformat": 4,
  "nbformat_minor": 0,
  "metadata": {
    "colab": {
      "name": "neural net.ipynb",
      "provenance": []
    },
    "kernelspec": {
      "name": "python3",
      "display_name": "Python 3"
    }
  },
  "cells": [
    {
      "cell_type": "markdown",
      "metadata": {
        "id": "iJUW1V5Yi4ke",
        "colab_type": "text"
      },
      "source": [
        "# Imports"
      ]
    },
    {
      "cell_type": "code",
      "metadata": {
        "id": "T-E12obAG2Gv",
        "colab_type": "code",
        "colab": {}
      },
      "source": [
        "import matplotlib.pyplot as plt\n",
        "from matplotlib.pyplot import figure\n",
        "import numpy as np\n",
        "from numpy.random import default_rng\n",
        "import time\n",
        "rng = default_rng()"
      ],
      "execution_count": 0,
      "outputs": []
    },
    {
      "cell_type": "markdown",
      "metadata": {
        "id": "T4G-4pMNixI0",
        "colab_type": "text"
      },
      "source": [
        "# Creating clusters dataset"
      ]
    },
    {
      "cell_type": "code",
      "metadata": {
        "id": "N3dT4HK5GjBz",
        "colab_type": "code",
        "colab": {}
      },
      "source": [
        "#Weights\n",
        "np.random.seed(0)\n",
        "class data_set1:\n",
        "  def __init__(self):\n",
        "    self.cov1= [[0,0],[0,0]]  #covariance for class1\n",
        "    self.cov2=[[0,0],[0,0]]   #covariance for class2   \n",
        "    \n",
        "    # method to adjust noise\n",
        "  def noise(self,amt1,amt2=0):             \n",
        "    n1=(3.5 - 0.4)*(amt1) + 0.4  #3.5 is max covariance and 0.4 is min covariance taken for noise\n",
        "    self.cov1=[[n1,0],[0,n1]]\n",
        "    if(amt2==0):\n",
        "      amt2=amt1\n",
        "    n2=(3.5 - 0.4)*(amt2) + 0.4\n",
        "    self.cov2=[[n2,0],[0,n2]]\n",
        "  #method to create data\n",
        "  def create(self,n=2,items=100,noise=0):\n",
        "    self.noise(noise,noise)\n",
        "    self.n= n\n",
        "    \n",
        "    self.items= int(np.round(items/n))    # items per class =  all items / n \n",
        "    mx = rng.choice(int(self.n), size=self.n, replace=False)  # random x value of mean \n",
        "    my = rng.choice(int(self.n), size=self.n, replace=False)  # random y value of mean\n",
        "    for i in range(self.n):\n",
        "        if(i==0):\n",
        "          x1, y1 = np.random.multivariate_normal([mx[i]*3,my[i]*2], self.cov1, self.items).T  #class1\n",
        "          self.d1_data = np.array([x1,y1,np.zeros(x1.shape)+i])\n",
        "        else:\n",
        "          x2, y2 = np.random.multivariate_normal([mx[i]*3,my[i]*2], self.cov2, self.items).T  #class2\n",
        "          self.d1_data=np.append(self.d1_data,[x2,y2,np.zeros(x1.shape)+i],axis=1)\n",
        "          \n",
        "    #appending both classes to 1 array and also adding another column of labels\n",
        "    self.d1_data=self.d1_data.T\n",
        "    return self.d1_data\n",
        "  def plot(self):\n",
        "    plt.figure(figsize=(5,5))\n",
        "    plt.scatter(self.d1_data[:,0],self.d1_data[:,1],c=self.d1_data[:,2])\n",
        "    ax = plt.gca()\n",
        "    ax.set_facecolor('xkcd:salmon')\n",
        "    ax.set_facecolor((0, 0, 0))\n",
        "    plt.show()\n",
        "\n"
      ],
      "execution_count": 0,
      "outputs": []
    },
    {
      "cell_type": "code",
      "metadata": {
        "id": "RqFmOmoDjFNv",
        "colab_type": "code",
        "outputId": "1b1e648f-37ae-4957-febc-1cfcf1d384a5",
        "colab": {
          "base_uri": "https://localhost:8080/",
          "height": 320
        }
      },
      "source": [
        "obj1=data_set1()\n",
        "dataset=obj1.create(2,100,0.00)   #class,items,noise\n",
        "np.random.shuffle(dataset)\n",
        "obj1.plot()"
      ],
      "execution_count": 72,
      "outputs": [
        {
          "output_type": "display_data",
          "data": {
            "image/png": "[encoded data removed]",
            "text/plain": [
              "<Figure size 360x360 with 1 Axes>"
            ]
          },
          "metadata": {
            "tags": [],
            "needs_background": "light"
          }
        }
      ]
    },
    {
      "cell_type": "markdown",
      "metadata": {
        "id": "wXCcSkLRtv81",
        "colab_type": "text"
      },
      "source": [
        "# Training and testing model"
      ]
    },
    {
      "cell_type": "code",
      "metadata": {
        "id": "yXxa6izZG9Ph",
        "colab_type": "code",
        "colab": {}
      },
      "source": [
        "class Model:\n",
        "    def __init__(self,X_train,y_train):\n",
        "        self.lossList=[]\n",
        "        self.y_train=y_train\n",
        "        self.X_train=X_train\n",
        "\n",
        "    def sigmoid(self,x):\n",
        "        return 1/(1+np.exp(-x))\n",
        "\n",
        "    def sigmoidDerivation(self,x):\n",
        "        return x * (1 - x)\n",
        "    def lossFunction(self,y,t):\n",
        "        return np.mean(np.power(y - t,2))\n",
        "\n",
        "    def trainModel(self,learningRate,iterations,phase='train'):\n",
        "        self.learningRate = learningRate\n",
        "        self.iterations=iterations\n",
        "        self.w0 = 2*np.random.random((2, 5)) - 1\n",
        "        self.w1 = 2*np.random.random((5, 1)) - 1\n",
        "\n",
        "        for i in range(self.iterations):\n",
        "            #Feedforward propagation\n",
        "            layer0 = self.X_train\n",
        "            layer1 = self.sigmoid(np.dot(layer0, self.w0))\n",
        "            layer2 = self.sigmoid(np.dot(layer1, self.w1))\n",
        "            loss=self.lossFunction(layer2,self.y_train)\n",
        "            #Backpropagation \n",
        "            layer2_error =  self.y_train - layer2\n",
        "            layer2_delta = layer2_error * self.sigmoidDerivation(layer2)\n",
        "            layer1_error = layer2_delta.dot(self.w1.T)\n",
        "            layer1_delta = layer1_error * self.sigmoidDerivation(layer1)\n",
        "            #updating gradients\n",
        "            self.w1 += np.dot(layer1.T,layer2_delta) * self.learningRate\n",
        "            self.w0 += np.dot(layer0.T,layer1_delta) * self.learningRate\n",
        "            #append loss\n",
        "            self.lossList.append(loss)\n",
        "        return self.lossList\n",
        "\n",
        "    def testModel(self,data,output):\n",
        "        layer0 = self.X_train\n",
        "        layer1 = self.sigmoid(np.dot(layer0, self.w0))\n",
        "        layer2 = self.sigmoid(np.dot(layer1, self.w1))\n",
        "        layer2=np.where(layer2>0.50,1,0)\n",
        "        accuracy=(layer2==output).mean()\n",
        "        return accuracy\n",
        "\n",
        "    def plot(self,loss):\n",
        "        #Plot the accuracy chart\n",
        "        plt.plot(loss)\n",
        "        plt.xlabel('Training')\n",
        "        plt.ylabel('Loss')\n",
        "        plt.show()"
      ],
      "execution_count": 0,
      "outputs": []
    },
    {
      "cell_type": "code",
      "metadata": {
        "id": "FrG6WmBlLQKL",
        "colab_type": "code",
        "colab": {}
      },
      "source": [
        "def trainTestSplit(data,p,q):\n",
        "    trainData=data[:int(data.shape[0] * p),:-1]\n",
        "    trainLabel=data[:int(data.shape[0] * p),-1]\n",
        "    testData=data[(int(data.shape[0] * p)):,:-1]\n",
        "    testLabel=data[(int(data.shape[0] * p)):,-1]\n",
        "    return trainData,trainLabel,testData,testLabel"
      ],
      "execution_count": 0,
      "outputs": []
    },
    {
      "cell_type": "markdown",
      "metadata": {
        "id": "WwT52233QLTn",
        "colab_type": "text"
      },
      "source": [
        "Preparing Data"
      ]
    },
    {
      "cell_type": "code",
      "metadata": {
        "id": "t5SDB_S6QKsR",
        "colab_type": "code",
        "colab": {}
      },
      "source": [
        "label=dataset[:,-1]\n",
        "label=label.reshape(label.shape[0],1)\n",
        "trainData,trainLabel,testData,testLabel=trainTestSplit(dataset,0.9,0.1)\n",
        "trainLabel=trainLabel.reshape(trainLabel.shape[0],1)\n",
        "testLabel=testLabel.reshape(testLabel.shape[0],1)"
      ],
      "execution_count": 0,
      "outputs": []
    },
    {
      "cell_type": "markdown",
      "metadata": {
        "id": "fxJ__lMPQOTP",
        "colab_type": "text"
      },
      "source": [
        "Running Model"
      ]
    },
    {
      "cell_type": "code",
      "metadata": {
        "id": "L0lFDsjYklFR",
        "colab_type": "code",
        "outputId": "6438ab7d-b7c6-47f4-eacc-7ab12dc5f6f5",
        "colab": {
          "base_uri": "https://localhost:8080/",
          "height": 296
        }
      },
      "source": [
        "model=Model(trainData,trainLabel)\n",
        "loss=model.trainModel(0.1,100)\n",
        "trainingAccuracy=model.testModel(testData,trainLabel)\n",
        "model.plot(loss)\n",
        "print(\"Training Accuracy \" + str(round(trainingAccuracy,2)) + \"%\")"
      ],
      "execution_count": 76,
      "outputs": [
        {
          "output_type": "display_data",
          "data": {
            "image/png": "[encoded data removed]",
            "text/plain": [
              "<Figure size 432x288 with 1 Axes>"
            ]
          },
          "metadata": {
            "tags": [],
            "needs_background": "light"
          }
        },
        {
          "output_type": "stream",
          "text": [
            "Training Accuracy 0.99%\n"
          ],
          "name": "stdout"
        }
      ]
    },
    {
      "cell_type": "code",
      "metadata": {
        "id": "J6KjNJ3SnJbd",
        "colab_type": "code",
        "colab": {}
      },
      "source": [
        ""
      ],
      "execution_count": 0,
      "outputs": []
    }
  ]
}