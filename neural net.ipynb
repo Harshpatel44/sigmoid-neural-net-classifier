{
  "nbformat": 4,
  "nbformat_minor": 0,
  "metadata": {
    "colab": {
      "name": "Untitled4.ipynb",
      "provenance": []
    },
    "kernelspec": {
      "name": "python3",
      "display_name": "Python 3"
    }
  },
  "cells": [
    {
      "cell_type": "markdown",
      "metadata": {
        "id": "iJUW1V5Yi4ke",
        "colab_type": "text"
      },
      "source": [
        "# Imports"
      ]
    },
    {
      "cell_type": "code",
      "metadata": {
        "id": "T-E12obAG2Gv",
        "colab_type": "code",
        "colab": {}
      },
      "source": [
        "import matplotlib.pyplot as plt\n",
        "from matplotlib.pyplot import figure\n",
        "import numpy as np\n",
        "from numpy.random import default_rng\n",
        "import time\n",
        "rng = default_rng()"
      ],
      "execution_count": 0,
      "outputs": []
    },
    {
      "cell_type": "markdown",
      "metadata": {
        "id": "T4G-4pMNixI0",
        "colab_type": "text"
      },
      "source": [
        "# Creating clusters dataset"
      ]
    },
    {
      "cell_type": "code",
      "metadata": {
        "id": "N3dT4HK5GjBz",
        "colab_type": "code",
        "colab": {}
      },
      "source": [
        "#Weights\n",
        "np.random.seed(0)\n",
        "class data_set1:\n",
        "  def __init__(self):\n",
        "    self.cov1= [[0,0],[0,0]]  #covariance for class1\n",
        "    self.cov2=[[0,0],[0,0]]   #covariance for class2   \n",
        "    \n",
        "    # method to adjust noise\n",
        "  def noise(self,amt1,amt2=0):             \n",
        "    n1=(3.5 - 0.4)*(amt1) + 0.4  #3.5 is max covariance and 0.4 is min covariance taken for noise\n",
        "    self.cov1=[[n1,0],[0,n1]]\n",
        "    if(amt2==0):\n",
        "      amt2=amt1\n",
        "    n2=(3.5 - 0.4)*(amt2) + 0.4\n",
        "    self.cov2=[[n2,0],[0,n2]]\n",
        "  #method to create data\n",
        "  def create(self,n=2,items=100,noise=0):\n",
        "    self.noise(noise,noise)\n",
        "    self.n= n\n",
        "    \n",
        "    self.items= int(np.round(items/n))    # items per class =  all items / n \n",
        "    mx = rng.choice(int(self.n), size=self.n, replace=False)  # random x value of mean \n",
        "    my = rng.choice(int(self.n), size=self.n, replace=False)  # random y value of mean\n",
        "    for i in range(self.n):\n",
        "        if(i==0):\n",
        "          x1, y1 = np.random.multivariate_normal([mx[i]*3,my[i]*2], self.cov1, self.items).T  #class1\n",
        "          self.d1_data = np.array([x1,y1,np.zeros(x1.shape)+i])\n",
        "        else:\n",
        "          x2, y2 = np.random.multivariate_normal([mx[i]*3,my[i]*2], self.cov2, self.items).T  #class2\n",
        "          self.d1_data=np.append(self.d1_data,[x2,y2,np.zeros(x1.shape)+i],axis=1)\n",
        "          \n",
        "    #appending both classes to 1 array and also adding another column of labels\n",
        "    self.d1_data=self.d1_data.T\n",
        "    return self.d1_data\n",
        "  def plot(self):\n",
        "    plt.figure(figsize=(5,5))\n",
        "    plt.scatter(self.d1_data[:,0],self.d1_data[:,1],c=self.d1_data[:,2])\n",
        "    ax = plt.gca()\n",
        "    ax.set_facecolor('xkcd:salmon')\n",
        "    ax.set_facecolor((0, 0, 0))\n",
        "    plt.show()\n",
        "\n"
      ],
      "execution_count": 0,
      "outputs": []
    },
    {
      "cell_type": "code",
      "metadata": {
        "id": "RqFmOmoDjFNv",
        "colab_type": "code",
        "colab": {
          "base_uri": "https://localhost:8080/",
          "height": 320
        },
        "outputId": "86ed04cd-829b-4def-9b0f-f293198299c7"
      },
      "source": [
        "obj1=data_set1()\n",
        "dataset=obj1.create(2,10,0.00)   #class,items,noise\n",
        "np.random.shuffle(dataset)\n",
        "obj1.plot()"
      ],
      "execution_count": 106,
      "outputs": [
        {
          "output_type": "display_data",
          "data": {
            "image/png": "[encoded data removed]",
            "text/plain": [
              "<Figure size 360x360 with 1 Axes>"
            ]
          },
          "metadata": {
            "tags": [],
            "needs_background": "light"
          }
        }
      ]
    },
    {
      "cell_type": "markdown",
      "metadata": {
        "id": "wXCcSkLRtv81",
        "colab_type": "text"
      },
      "source": [
        "# Training and testing model"
      ]
    },
    {
      "cell_type": "code",
      "metadata": {
        "id": "yXxa6izZG9Ph",
        "colab_type": "code",
        "colab": {}
      },
      "source": [
        "class Model:\n",
        "    def __init__(self,X_train,y_train):\n",
        "        self.lossList=[]\n",
        "        self.y_train=y_train\n",
        "        self.X_train=X_train\n",
        "\n",
        "    def sigmoid(self,x):\n",
        "        return 1/(1+np.exp(-x))\n",
        "\n",
        "    def sigmoidDerivation(self,x):\n",
        "        return x * (1 - x)\n",
        "    def lossFunction(self,y,t):\n",
        "        return np.mean(np.power(y - t,2))\n",
        "\n",
        "    def trainModel(self,learningRate,iterations,phase='train'):\n",
        "        self.learningRate = learningRate\n",
        "        self.iterations=iterations\n",
        "        self.w0 = 2*np.random.random((2, 5)) - 1 #for input   - 4 inputs, 3 outputs\n",
        "        self.w1 = 2*np.random.random((5, 1)) - 1 #for layer 1 - 5 inputs, 3 outputs\n",
        "\n",
        "        for i in range(self.iterations):\n",
        "            #Feedforward propagation\n",
        "            layer0 = self.X_train\n",
        "            layer1 = self.sigmoid(np.dot(layer0, self.w0))\n",
        "            layer2 = self.sigmoid(np.dot(layer1, self.w1))\n",
        "            loss=self.lossFunction(layer2,self.y_train)\n",
        "\n",
        "            #Backpropagation \n",
        "            layer2_error =  self.y_train - layer2\n",
        "            layer2_delta = layer2_error * self.sigmoidDerivation(layer2)\n",
        "            layer1_error = layer2_delta.dot(self.w1.T)\n",
        "            layer1_delta = layer2_delta * self.sigmoidDerivation(layer1)\n",
        "            \n",
        "            #updating gradients\n",
        "            self.w1 += -layer1.T.dot(layer2_delta) * self.learningRate\n",
        "            self.w0 += -layer0.T.dot(layer1_delta) * self.learningRate\n",
        "            \n",
        "            #append loss\n",
        "            self.lossList.append(loss)\n",
        "        if(phase=='test'):\n",
        "            return self.lossList,layer2\n",
        "        return self.lossList\n",
        "    # def testModel(self,data,output):\n",
        "    #     loss,layer2=self.trainModel(self.learningRate,1,'test')\n",
        "    #     print(np.mean(layer2-output))\n",
        "    #     return accuracy\n",
        "\n",
        "    def plot(self,loss):\n",
        "        #Plot the accuracy chart\n",
        "        plt.plot(loss)\n",
        "        plt.xlabel('Training')\n",
        "        plt.ylabel('Loss')\n",
        "        plt.show()"
      ],
      "execution_count": 0,
      "outputs": []
    },
    {
      "cell_type": "code",
      "metadata": {
        "id": "L0lFDsjYklFR",
        "colab_type": "code",
        "colab": {
          "base_uri": "https://localhost:8080/",
          "height": 367
        },
        "outputId": "33e2fc7e-5967-43ca-f9a4-5e577fa02da2"
      },
      "source": [
        "inputData=dataset[:,:-1]\n",
        "label=dataset[:,-1]\n",
        "label=label.reshape(label.shape[0],1)\n",
        "\n",
        "model=Model(inputData,label)\n",
        "loss=model.trainModel(0.1,100)\n",
        "trainingAccuracy=model.testModel(inputData,label)\n",
        "model.plot(loss)\n",
        "print(\"Training Accuracy \" + str(round(trainingAccuracy,2)) + \"%\")"
      ],
      "execution_count": 116,
      "outputs": [
        {
          "output_type": "stream",
          "text": [
            "-0.043539607890393774\n"
          ],
          "name": "stdout"
        },
        {
          "output_type": "error",
          "ename": "NameError",
          "evalue": "ignored",
          "traceback": [
            "\u001b[0;31m---------------------------------------------------------------------------\u001b[0m",
            "\u001b[0;31mNameError\u001b[0m                                 Traceback (most recent call last)",
            "\u001b[0;32m<ipython-input-116-d1d2cd1d283d>\u001b[0m in \u001b[0;36m<module>\u001b[0;34m()\u001b[0m\n\u001b[1;32m      5\u001b[0m \u001b[0mmodel\u001b[0m\u001b[0;34m=\u001b[0m\u001b[0mModel\u001b[0m\u001b[0;34m(\u001b[0m\u001b[0minputData\u001b[0m\u001b[0;34m,\u001b[0m\u001b[0mlabel\u001b[0m\u001b[0;34m)\u001b[0m\u001b[0;34m\u001b[0m\u001b[0;34m\u001b[0m\u001b[0m\n\u001b[1;32m      6\u001b[0m \u001b[0mloss\u001b[0m\u001b[0;34m=\u001b[0m\u001b[0mmodel\u001b[0m\u001b[0;34m.\u001b[0m\u001b[0mtrainModel\u001b[0m\u001b[0;34m(\u001b[0m\u001b[0;36m0.1\u001b[0m\u001b[0;34m,\u001b[0m\u001b[0;36m100\u001b[0m\u001b[0;34m)\u001b[0m\u001b[0;34m\u001b[0m\u001b[0;34m\u001b[0m\u001b[0m\n\u001b[0;32m----> 7\u001b[0;31m \u001b[0mtrainingAccuracy\u001b[0m\u001b[0;34m=\u001b[0m\u001b[0mmodel\u001b[0m\u001b[0;34m.\u001b[0m\u001b[0mtestModel\u001b[0m\u001b[0;34m(\u001b[0m\u001b[0minputData\u001b[0m\u001b[0;34m,\u001b[0m\u001b[0mlabel\u001b[0m\u001b[0;34m)\u001b[0m\u001b[0;34m\u001b[0m\u001b[0;34m\u001b[0m\u001b[0m\n\u001b[0m\u001b[1;32m      8\u001b[0m \u001b[0mmodel\u001b[0m\u001b[0;34m.\u001b[0m\u001b[0mplot\u001b[0m\u001b[0;34m(\u001b[0m\u001b[0mloss\u001b[0m\u001b[0;34m)\u001b[0m\u001b[0;34m\u001b[0m\u001b[0;34m\u001b[0m\u001b[0m\n\u001b[1;32m      9\u001b[0m \u001b[0mprint\u001b[0m\u001b[0;34m(\u001b[0m\u001b[0;34m\"Training Accuracy \"\u001b[0m \u001b[0;34m+\u001b[0m \u001b[0mstr\u001b[0m\u001b[0;34m(\u001b[0m\u001b[0mround\u001b[0m\u001b[0;34m(\u001b[0m\u001b[0mtrainingAccuracy\u001b[0m\u001b[0;34m,\u001b[0m\u001b[0;36m2\u001b[0m\u001b[0;34m)\u001b[0m\u001b[0;34m)\u001b[0m \u001b[0;34m+\u001b[0m \u001b[0;34m\"%\"\u001b[0m\u001b[0;34m)\u001b[0m\u001b[0;34m\u001b[0m\u001b[0;34m\u001b[0m\u001b[0m\n",
            "\u001b[0;32m<ipython-input-115-af3bc735ce7b>\u001b[0m in \u001b[0;36mtestModel\u001b[0;34m(self, data, output)\u001b[0m\n\u001b[1;32m     44\u001b[0m         \u001b[0mloss\u001b[0m\u001b[0;34m,\u001b[0m\u001b[0mlayer2\u001b[0m\u001b[0;34m=\u001b[0m\u001b[0mself\u001b[0m\u001b[0;34m.\u001b[0m\u001b[0mtrainModel\u001b[0m\u001b[0;34m(\u001b[0m\u001b[0mself\u001b[0m\u001b[0;34m.\u001b[0m\u001b[0mlearningRate\u001b[0m\u001b[0;34m,\u001b[0m\u001b[0;36m1\u001b[0m\u001b[0;34m,\u001b[0m\u001b[0;34m'test'\u001b[0m\u001b[0;34m)\u001b[0m\u001b[0;34m\u001b[0m\u001b[0;34m\u001b[0m\u001b[0m\n\u001b[1;32m     45\u001b[0m         \u001b[0mprint\u001b[0m\u001b[0;34m(\u001b[0m\u001b[0mnp\u001b[0m\u001b[0;34m.\u001b[0m\u001b[0mmean\u001b[0m\u001b[0;34m(\u001b[0m\u001b[0mlayer2\u001b[0m\u001b[0;34m-\u001b[0m\u001b[0moutput\u001b[0m\u001b[0;34m)\u001b[0m\u001b[0;34m)\u001b[0m\u001b[0;34m\u001b[0m\u001b[0;34m\u001b[0m\u001b[0m\n\u001b[0;32m---> 46\u001b[0;31m         \u001b[0;32mreturn\u001b[0m \u001b[0maccuracy\u001b[0m\u001b[0;34m\u001b[0m\u001b[0;34m\u001b[0m\u001b[0m\n\u001b[0m\u001b[1;32m     47\u001b[0m \u001b[0;34m\u001b[0m\u001b[0m\n\u001b[1;32m     48\u001b[0m     \u001b[0;32mdef\u001b[0m \u001b[0mplot\u001b[0m\u001b[0;34m(\u001b[0m\u001b[0mself\u001b[0m\u001b[0;34m,\u001b[0m\u001b[0mloss\u001b[0m\u001b[0;34m)\u001b[0m\u001b[0;34m:\u001b[0m\u001b[0;34m\u001b[0m\u001b[0;34m\u001b[0m\u001b[0m\n",
            "\u001b[0;31mNameError\u001b[0m: name 'accuracy' is not defined"
          ]
        }
      ]
    },
    {
      "cell_type": "code",
      "metadata": {
        "id": "J6KjNJ3SnJbd",
        "colab_type": "code",
        "colab": {}
      },
      "source": [
        ""
      ],
      "execution_count": 0,
      "outputs": []
    }
  ]
}